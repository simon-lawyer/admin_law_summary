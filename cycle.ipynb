{
 "cells": [
  {
   "cell_type": "code",
   "execution_count": 2,
   "metadata": {},
   "outputs": [
    {
     "name": "stderr",
     "output_type": "stream",
     "text": [
      "/Users/simonwallace/miniforge3/lib/python3.12/site-packages/tqdm/auto.py:21: TqdmWarning: IProgress not found. Please update jupyter and ipywidgets. See https://ipywidgets.readthedocs.io/en/stable/user_install.html\n",
      "  from .autonotebook import tqdm as notebook_tqdm\n"
     ]
    }
   ],
   "source": [
    "from datasets import load_dataset\n",
    "import pandas as pd\n",
    "from openai import OpenAI"
   ]
  },
  {
   "cell_type": "code",
   "execution_count": 120,
   "metadata": {},
   "outputs": [],
   "source": [
    "client = OpenAI()"
   ]
  },
  {
   "cell_type": "code",
   "execution_count": 9,
   "metadata": {},
   "outputs": [],
   "source": [
    "dataset = load_dataset(\"refugee-law-lab/canadian-legal-data\", \"FC\", split=\"train\")\n",
    "df = pd.DataFrame(dataset)"
   ]
  },
  {
   "cell_type": "code",
   "execution_count": null,
   "metadata": {},
   "outputs": [],
   "source": [
    "df = df[df['citation'].str[:4] == '2024']\n",
    "df = df[df['language'] == 'en']\n"
   ]
  },
  {
   "cell_type": "code",
   "execution_count": 53,
   "metadata": {},
   "outputs": [],
   "source": [
    "def extract_file(text):\n",
    "    paras = text.split('\\n')\n",
    "    for idx,para in enumerate(paras):\n",
    "        if 'file' in para.lower():\n",
    "            return paras[idx+1]"
   ]
  },
  {
   "cell_type": "code",
   "execution_count": 111,
   "metadata": {},
   "outputs": [
    {
     "name": "stderr",
     "output_type": "stream",
     "text": [
      "/var/folders/54/pnyqyxcd4013kndyzbprlnxh0000gn/T/ipykernel_79573/2476011910.py:1: SettingWithCopyWarning: \n",
      "A value is trying to be set on a copy of a slice from a DataFrame.\n",
      "Try using .loc[row_indexer,col_indexer] = value instead\n",
      "\n",
      "See the caveats in the documentation: https://pandas.pydata.org/pandas-docs/stable/user_guide/indexing.html#returning-a-view-versus-a-copy\n",
      "  df['files'] = df['unofficial_text'].apply(extract_file)\n"
     ]
    }
   ],
   "source": [
    "df['files'] = df['unofficial_text'].apply(extract_file)\n",
    "df = df[(df['files'].str[0] == 'I')]"
   ]
  },
  {
   "cell_type": "code",
   "execution_count": 112,
   "metadata": {},
   "outputs": [],
   "source": [
    "def extract_judgement(text):\n",
    "    paras = text.split('\\n')\n",
    "    for idx,para in enumerate(paras):\n",
    "        if 'THIS C' in para:\n",
    "            if ('granted' in para.lower()) or ('allowed' in para.lower()):\n",
    "                return 'granted'\n",
    "            if 'dismissed' in para.lower():\n",
    "                return 'dismissed'\n",
    "            if ('granted' in paras[idx+1].lower()) or ('allowed' in paras[idx+1].lower()):\n",
    "                return 'granted'\n",
    "            if 'dismissed' in paras[idx+1].lower():\n",
    "                return 'dismissed'\n",
    "            else:\n",
    "                return 'other'\n",
    "        \n",
    "\n",
    "df['judgement'] = df['unofficial_text'].apply(extract_judgement)"
   ]
  },
  {
   "cell_type": "code",
   "execution_count": 113,
   "metadata": {},
   "outputs": [
    {
     "data": {
      "text/plain": [
       "judgement\n",
       "dismissed    641\n",
       "granted      430\n",
       "other         38\n",
       "Name: count, dtype: int64"
      ]
     },
     "execution_count": 113,
     "metadata": {},
     "output_type": "execute_result"
    }
   ],
   "source": [
    "df['judgement'].value_counts()"
   ]
  },
  {
   "cell_type": "code",
   "execution_count": 117,
   "metadata": {},
   "outputs": [],
   "source": [
    "df = df[df['judgement'] == 'granted'].reset_index(drop=True)"
   ]
  },
  {
   "cell_type": "code",
   "execution_count": 127,
   "metadata": {},
   "outputs": [],
   "source": [
    "sample = df.sample(10)\n",
    "sample.reset_index(drop=True, inplace=True)"
   ]
  },
  {
   "cell_type": "code",
   "execution_count": 122,
   "metadata": {},
   "outputs": [],
   "source": [
    "with open(\"prompt.txt\", \"r\") as f:\n",
    "    prompt = f.read()"
   ]
  },
  {
   "cell_type": "code",
   "execution_count": 128,
   "metadata": {},
   "outputs": [],
   "source": [
    "for idx,row in sample.iterrows():\n",
    "    if idx == 0:\n",
    "        with open(\"manual v.0.txt\", \"r\") as f:\n",
    "            manual = f.read()\n",
    "    else:\n",
    "        with open(f\"versions/manual v.{idx}.txt\", \"r\") as f:\n",
    "            manual = f.read()\n",
    "    \n",
    "    new_prompt = prompt.replace(\"{manual}\", manual)\n",
    "    new_prompt = new_prompt.replace(\"{case}\", row['unofficial_text'])\n",
    "    \n",
    "    chat_completion = client.chat.completions.create(\n",
    "        messages=[\n",
    "            {\n",
    "                \"role\": \"user\",\n",
    "                \"content\": new_prompt,\n",
    "            }\n",
    "        ],\n",
    "        model=\"gpt-4o\",\n",
    "    )\n",
    "    \n",
    "    with open(f\"versions/manual v.{idx+1}.txt\", \"w\") as f:\n",
    "        f.write(chat_completion.choices[0].message.content)"
   ]
  }
 ],
 "metadata": {
  "kernelspec": {
   "display_name": "base",
   "language": "python",
   "name": "python3"
  },
  "language_info": {
   "codemirror_mode": {
    "name": "ipython",
    "version": 3
   },
   "file_extension": ".py",
   "mimetype": "text/x-python",
   "name": "python",
   "nbconvert_exporter": "python",
   "pygments_lexer": "ipython3",
   "version": "3.12.8"
  }
 },
 "nbformat": 4,
 "nbformat_minor": 2
}
